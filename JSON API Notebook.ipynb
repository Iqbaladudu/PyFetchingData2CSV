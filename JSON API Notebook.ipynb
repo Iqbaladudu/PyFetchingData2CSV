{
 "cells": [
  {
   "cell_type": "code",
   "execution_count": 3,
   "id": "71999608",
   "metadata": {},
   "outputs": [],
   "source": [
    "from urllib.request import urlopen\n",
    "import json"
   ]
  },
  {
   "cell_type": "code",
   "execution_count": 4,
   "id": "9e5389d5",
   "metadata": {},
   "outputs": [
    {
     "name": "stdout",
     "output_type": "stream",
     "text": [
      "{\"help\": \"https://www.data.qld.gov.au/api/3/action/help_show?name=datastore_search\", \"success\": true, \"result\": {\"include_total\": true, \"resource_id\": \"7afe7233-fae0-4024-bc98-3a72f05675bd\", \"fields\": [{\"type\": \"int\", \"id\": \"_id\"}, {\"type\": \"text\", \"id\": \"Site\"}, {\"type\": \"numeric\", \"id\": \"Seconds\"}, {\"type\": \"timestamp\", \"id\": \"DateTime\"}, {\"type\": \"numeric\", \"id\": \"Water Level\"}, {\"type\": \"numeric\", \"id\": \"Prediction\"}, {\"type\": \"numeric\", \"id\": \"Residual\"}, {\"type\": \"numeric\", \"id\": \"Latitude\"}, {\"type\": \"numeric\", \"id\": \"Longitude\"}], \"records_format\": \"objects\", \"records\": [{\"_id\": 1, \"Site\": \"abellpoint\", \"Seconds\": 1631714400, \"DateTime\": \"2021-09-16T00:00:00\", \"Water Level\": 0.954, \"Prediction\": 0.941, \"Residual\": 0.013, \"Latitude\": -20.2608, \"Longitude\": 148.7103}, {\"_id\": 2, \"Site\": \"abellpoint\", \"Seconds\": 1631715000, \"DateTime\": \"2021-09-16T00:10:00\", \"Water Level\": 0.885, \"Prediction\": 0.876, \"Residual\": 0.009, \"Latitude\": -20.2608, \"Longitude\": 148.7103}, {\"_id\": 3, \"Site\": \"abellpoint\", \"Seconds\": 1631715600, \"DateTime\": \"2021-09-16T00:20:00\", \"Water Level\": 0.815, \"Prediction\": 0.818, \"Residual\": -0.003, \"Latitude\": -20.2608, \"Longitude\": 148.7103}, {\"_id\": 4, \"Site\": \"abellpoint\", \"Seconds\": 1631716200, \"DateTime\": \"2021-09-16T00:30:00\", \"Water Level\": 0.759, \"Prediction\": 0.764, \"Residual\": -0.005, \"Latitude\": -20.2608, \"Longitude\": 148.7103}, {\"_id\": 5, \"Site\": \"abellpoint\", \"Seconds\": 1631716800, \"DateTime\": \"2021-09-16T00:40:00\", \"Water Level\": 0.727, \"Prediction\": 0.716, \"Residual\": 0.011, \"Latitude\": -20.2608, \"Longitude\": 148.7103}], \"limit\": 5, \"_links\": {\"start\": \"/api/3/action/datastore_search?limit=5&resource_id=7afe7233-fae0-4024-bc98-3a72f05675bd\", \"next\": \"/api/3/action/datastore_search?offset=5&limit=5&resource_id=7afe7233-fae0-4024-bc98-3a72f05675bd\"}, \"total\": 65431}}\n"
     ]
    }
   ],
   "source": [
    "url = 'https://www.data.qld.gov.au/api/3/action/datastore_search?resource_id=7afe7233-fae0-4024-bc98-3a72f05675bd&limit=5'\n",
    "url_result = urlopen(url)\n",
    "raw_data = url_result.read()\n",
    "json_data = json.loads(raw_data)\n",
    "json_string = json.dumps(json_data)\n",
    "print(json_string)"
   ]
  },
  {
   "cell_type": "code",
   "execution_count": 7,
   "id": "17232cb5",
   "metadata": {},
   "outputs": [
    {
     "data": {
      "text/plain": [
       "{'include_total': True,\n",
       " 'resource_id': '7afe7233-fae0-4024-bc98-3a72f05675bd',\n",
       " 'fields': [{'type': 'int', 'id': '_id'},\n",
       "  {'type': 'text', 'id': 'Site'},\n",
       "  {'type': 'numeric', 'id': 'Seconds'},\n",
       "  {'type': 'timestamp', 'id': 'DateTime'},\n",
       "  {'type': 'numeric', 'id': 'Water Level'},\n",
       "  {'type': 'numeric', 'id': 'Prediction'},\n",
       "  {'type': 'numeric', 'id': 'Residual'},\n",
       "  {'type': 'numeric', 'id': 'Latitude'},\n",
       "  {'type': 'numeric', 'id': 'Longitude'}],\n",
       " 'records_format': 'objects',\n",
       " 'records': [{'_id': 1,\n",
       "   'Site': 'abellpoint',\n",
       "   'Seconds': 1631714400,\n",
       "   'DateTime': '2021-09-16T00:00:00',\n",
       "   'Water Level': 0.954,\n",
       "   'Prediction': 0.941,\n",
       "   'Residual': 0.013,\n",
       "   'Latitude': -20.2608,\n",
       "   'Longitude': 148.7103},\n",
       "  {'_id': 2,\n",
       "   'Site': 'abellpoint',\n",
       "   'Seconds': 1631715000,\n",
       "   'DateTime': '2021-09-16T00:10:00',\n",
       "   'Water Level': 0.885,\n",
       "   'Prediction': 0.876,\n",
       "   'Residual': 0.009,\n",
       "   'Latitude': -20.2608,\n",
       "   'Longitude': 148.7103},\n",
       "  {'_id': 3,\n",
       "   'Site': 'abellpoint',\n",
       "   'Seconds': 1631715600,\n",
       "   'DateTime': '2021-09-16T00:20:00',\n",
       "   'Water Level': 0.815,\n",
       "   'Prediction': 0.818,\n",
       "   'Residual': -0.003,\n",
       "   'Latitude': -20.2608,\n",
       "   'Longitude': 148.7103},\n",
       "  {'_id': 4,\n",
       "   'Site': 'abellpoint',\n",
       "   'Seconds': 1631716200,\n",
       "   'DateTime': '2021-09-16T00:30:00',\n",
       "   'Water Level': 0.759,\n",
       "   'Prediction': 0.764,\n",
       "   'Residual': -0.005,\n",
       "   'Latitude': -20.2608,\n",
       "   'Longitude': 148.7103},\n",
       "  {'_id': 5,\n",
       "   'Site': 'abellpoint',\n",
       "   'Seconds': 1631716800,\n",
       "   'DateTime': '2021-09-16T00:40:00',\n",
       "   'Water Level': 0.727,\n",
       "   'Prediction': 0.716,\n",
       "   'Residual': 0.011,\n",
       "   'Latitude': -20.2608,\n",
       "   'Longitude': 148.7103}],\n",
       " 'limit': 5,\n",
       " '_links': {'start': '/api/3/action/datastore_search?limit=5&resource_id=7afe7233-fae0-4024-bc98-3a72f05675bd',\n",
       "  'next': '/api/3/action/datastore_search?offset=5&limit=5&resource_id=7afe7233-fae0-4024-bc98-3a72f05675bd'},\n",
       " 'total': 65431}"
      ]
     },
     "execution_count": 7,
     "metadata": {},
     "output_type": "execute_result"
    }
   ],
   "source": [
    "result = json_data['result']\n",
    "result"
   ]
  },
  {
   "cell_type": "code",
   "execution_count": 8,
   "id": "7bc01419",
   "metadata": {},
   "outputs": [
    {
     "data": {
      "text/plain": [
       "[{'_id': 1,\n",
       "  'Site': 'abellpoint',\n",
       "  'Seconds': 1631714400,\n",
       "  'DateTime': '2021-09-16T00:00:00',\n",
       "  'Water Level': 0.954,\n",
       "  'Prediction': 0.941,\n",
       "  'Residual': 0.013,\n",
       "  'Latitude': -20.2608,\n",
       "  'Longitude': 148.7103},\n",
       " {'_id': 2,\n",
       "  'Site': 'abellpoint',\n",
       "  'Seconds': 1631715000,\n",
       "  'DateTime': '2021-09-16T00:10:00',\n",
       "  'Water Level': 0.885,\n",
       "  'Prediction': 0.876,\n",
       "  'Residual': 0.009,\n",
       "  'Latitude': -20.2608,\n",
       "  'Longitude': 148.7103},\n",
       " {'_id': 3,\n",
       "  'Site': 'abellpoint',\n",
       "  'Seconds': 1631715600,\n",
       "  'DateTime': '2021-09-16T00:20:00',\n",
       "  'Water Level': 0.815,\n",
       "  'Prediction': 0.818,\n",
       "  'Residual': -0.003,\n",
       "  'Latitude': -20.2608,\n",
       "  'Longitude': 148.7103},\n",
       " {'_id': 4,\n",
       "  'Site': 'abellpoint',\n",
       "  'Seconds': 1631716200,\n",
       "  'DateTime': '2021-09-16T00:30:00',\n",
       "  'Water Level': 0.759,\n",
       "  'Prediction': 0.764,\n",
       "  'Residual': -0.005,\n",
       "  'Latitude': -20.2608,\n",
       "  'Longitude': 148.7103},\n",
       " {'_id': 5,\n",
       "  'Site': 'abellpoint',\n",
       "  'Seconds': 1631716800,\n",
       "  'DateTime': '2021-09-16T00:40:00',\n",
       "  'Water Level': 0.727,\n",
       "  'Prediction': 0.716,\n",
       "  'Residual': 0.011,\n",
       "  'Latitude': -20.2608,\n",
       "  'Longitude': 148.7103}]"
      ]
     },
     "execution_count": 8,
     "metadata": {},
     "output_type": "execute_result"
    }
   ],
   "source": [
    "records = result['records']\n",
    "records"
   ]
  },
  {
   "cell_type": "code",
   "execution_count": 9,
   "id": "30ec9a33",
   "metadata": {},
   "outputs": [
    {
     "name": "stdout",
     "output_type": "stream",
     "text": [
      "abellpoint\n",
      "2021-09-16T00:00:00\n",
      "0.954\n",
      "0.941\n",
      "0.013\n"
     ]
    }
   ],
   "source": [
    "first_record = records[0]\n",
    "site = first_record['Site']\n",
    "dateTime = first_record['DateTime']\n",
    "waterLevel = first_record['Water Level']\n",
    "prediction = first_record['Prediction']\n",
    "residual = first_record['Residual']\n",
    "print(site, dateTime, waterLevel, prediction, residual, sep='\\n')"
   ]
  },
  {
   "cell_type": "code",
   "execution_count": 10,
   "id": "7a0d699b",
   "metadata": {},
   "outputs": [
    {
     "name": "stdout",
     "output_type": "stream",
     "text": [
      "[['abellpoint', '2021-09-16T00:00:00', 0.954, 0.941, 0.013], ['abellpoint', '2021-09-16T00:10:00', 0.885, 0.876, 0.009], ['abellpoint', '2021-09-16T00:20:00', 0.815, 0.818, -0.003], ['abellpoint', '2021-09-16T00:30:00', 0.759, 0.764, -0.005], ['abellpoint', '2021-09-16T00:40:00', 0.727, 0.716, 0.011]]\n"
     ]
    }
   ],
   "source": [
    "records_data = []\n",
    "for record in records:\n",
    "    record_data = [\n",
    "        record['Site'],\n",
    "        record['DateTime'],\n",
    "        record['Water Level'],\n",
    "        record['Prediction'],\n",
    "        record['Residual'],\n",
    "    ]\n",
    "    records_data.append(record_data)\n",
    "print(records_data)"
   ]
  },
  {
   "cell_type": "code",
   "execution_count": 24,
   "id": "a4e2e2d0",
   "metadata": {},
   "outputs": [],
   "source": [
    "filename = 'Storm Tide Data.csv'\n",
    "f = open(filename, 'w')\n",
    "headers = 'Site, DateTime, Water Level, Prediction, Residual\\n'\n",
    "f.write(headers)\n",
    "for record in records:\n",
    "    row_string = ''\n",
    "    row_string += record['Site'] + ','\n",
    "    row_string += record['DateTime'] + ','\n",
    "    row_string += str(record['Water Level']) + ','\n",
    "    row_string += str(record['Prediction']) + ','\n",
    "    row_string += str(record['Residual']) + '\\n'\n",
    "    f.write(row_string)"
   ]
  }
 ],
 "metadata": {
  "kernelspec": {
   "display_name": "Python 3 (ipykernel)",
   "language": "python",
   "name": "python3"
  },
  "language_info": {
   "codemirror_mode": {
    "name": "ipython",
    "version": 3
   },
   "file_extension": ".py",
   "mimetype": "text/x-python",
   "name": "python",
   "nbconvert_exporter": "python",
   "pygments_lexer": "ipython3",
   "version": "3.9.7"
  }
 },
 "nbformat": 4,
 "nbformat_minor": 5
}
